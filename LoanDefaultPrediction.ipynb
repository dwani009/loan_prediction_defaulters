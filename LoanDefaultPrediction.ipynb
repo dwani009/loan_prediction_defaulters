{
  "nbformat": 4,
  "nbformat_minor": 0,
  "metadata": {
    "kernelspec": {
      "display_name": "Python 3",
      "language": "python",
      "name": "python3"
    },
    "language_info": {
      "codemirror_mode": {
        "name": "ipython",
        "version": 3
      },
      "file_extension": ".py",
      "mimetype": "text/x-python",
      "name": "python",
      "nbconvert_exporter": "python",
      "pygments_lexer": "ipython3",
      "version": "3.6.9"
    },
    "colab": {
      "name": "Default_Prediction-checkpoint.ipynb",
      "provenance": []
    }
  },
  "cells": [
    {
      "cell_type": "code",
      "metadata": {
        "id": "VZ1KQbI4O4Ks",
        "colab_type": "code",
        "outputId": "9637eb60-365e-4dcb-a402-ecc45cea223a",
        "colab": {
          "base_uri": "https://localhost:8080/",
          "height": 34
        }
      },
      "source": [
        "import tensorflow.compat.v1 as tf\n",
        "import pandas as pd\n",
        "import numpy as np\n",
        "from scipy import stats\n",
        "import matplotlib.pyplot as plt\n",
        "import seaborn as sns\n",
        "from sklearn.preprocessing import LabelEncoder\n",
        "from sklearn.model_selection import train_test_split\n",
        "from sklearn.preprocessing import StandardScaler\n",
        "\n",
        "from google.colab import drive\n",
        "drive.mount('/content/drive/', force_remount=True)\n",
        "from sklearn.metrics import confusion_matrix , classification_report\n",
        "from sklearn.metrics import roc_curve , auc\n",
        "from keras.models import Sequential\n",
        "from keras.layers import Dense\n",
        "from sklearn.tree import DecisionTreeClassifier\n",
        "from sklearn.ensemble import RandomForestClassifier\n",
        "from sklearn.naive_bayes import GaussianNB\n",
        "from sklearn.neighbors import KNeighborsClassifier\n",
        "from sklearn.svm import SVC\n",
        "from sklearn.neural_network import MLPClassifier\n",
        "from sklearn.ensemble import AdaBoostClassifier\n",
        "from sklearn.ensemble import GradientBoostingClassifier\n",
        "from sklearn.ensemble import ExtraTreesClassifier\n",
        "from sklearn.linear_model import LogisticRegression\n",
        "from sklearn.model_selection import train_test_split\n",
        "from sklearn.metrics import accuracy_score\n",
        "from sklearn.preprocessing import LabelEncoder\n",
        "import xgboost\n",
        "import warnings\n",
        "warnings.filterwarnings(\"ignore\")"
      ],
      "execution_count": 24,
      "outputs": [
        {
          "output_type": "stream",
          "text": [
            "Mounted at /content/drive/\n"
          ],
          "name": "stdout"
        }
      ]
    },
    {
      "cell_type": "code",
      "metadata": {
        "id": "nmBkjWwO8i7t",
        "colab_type": "code",
        "colab": {}
      },
      "source": [
        "dataPath = '/content/drive/My Drive/assignment2/dataset.pkl' #path of dataset\n",
        "outputPath = '/content/drive/My Drive/assignment2/output.txt' #path where csv file is to be created\n"
      ],
      "execution_count": 0,
      "outputs": []
    },
    {
      "cell_type": "code",
      "metadata": {
        "id": "7sWc9GgxO4Kw",
        "colab_type": "code",
        "outputId": "5f6fd7dc-2bc5-4ef9-c19a-e2dc6e0ff182",
        "colab": {
          "base_uri": "https://localhost:8080/",
          "height": 204
        }
      },
      "source": [
        "df = pd.read_pickle(dataPath)\n",
        "df.head()"
      ],
      "execution_count": 26,
      "outputs": [
        {
          "output_type": "execute_result",
          "data": {
            "text/html": [
              "<div>\n",
              "<style scoped>\n",
              "    .dataframe tbody tr th:only-of-type {\n",
              "        vertical-align: middle;\n",
              "    }\n",
              "\n",
              "    .dataframe tbody tr th {\n",
              "        vertical-align: top;\n",
              "    }\n",
              "\n",
              "    .dataframe thead th {\n",
              "        text-align: right;\n",
              "    }\n",
              "</style>\n",
              "<table border=\"1\" class=\"dataframe\">\n",
              "  <thead>\n",
              "    <tr style=\"text-align: right;\">\n",
              "      <th></th>\n",
              "      <th>0</th>\n",
              "      <th>1</th>\n",
              "      <th>2</th>\n",
              "      <th>3</th>\n",
              "      <th>4</th>\n",
              "      <th>5</th>\n",
              "      <th>6</th>\n",
              "    </tr>\n",
              "  </thead>\n",
              "  <tbody>\n",
              "    <tr>\n",
              "      <th>0</th>\n",
              "      <td>[id, 00076211-9BBD-4E06-82C2-E9FB7B102964-750]</td>\n",
              "      <td>[dates, [2017-05-19, 2017-05-29, 2017-05-31, 2...</td>\n",
              "      <td>[transaction_amount, [[-60.0], [0.02], [0.01],...</td>\n",
              "      <td>[days_before_request, [[79.0], [79.0], [76.0],...</td>\n",
              "      <td>[loan_amount, 750]</td>\n",
              "      <td>[loan_date, 2017-08-16]</td>\n",
              "      <td>[isDefault, 1]</td>\n",
              "    </tr>\n",
              "    <tr>\n",
              "      <th>1</th>\n",
              "      <td>[id, 0009107F-8F57-441C-A590-5773992261A9-500]</td>\n",
              "      <td>[dates, [2017-11-20, 2017-11-20, 2017-11-20, 2...</td>\n",
              "      <td>[transaction_amount, [[-68.93], [-23.7], [-0.5...</td>\n",
              "      <td>[days_before_request, [[12.0], [12.0], [12.0],...</td>\n",
              "      <td>[loan_amount, 500]</td>\n",
              "      <td>[loan_date, 2018-02-17]</td>\n",
              "      <td>[isDefault, 1]</td>\n",
              "    </tr>\n",
              "    <tr>\n",
              "      <th>2</th>\n",
              "      <td>[id, 000B47CB-514F-446C-B7BE-2F2D304E2F4D-1000]</td>\n",
              "      <td>[dates, [2017-05-29, 2017-05-29, 2017-05-29, 2...</td>\n",
              "      <td>[transaction_amount, [[-23.5], [-9.78], [-14.2...</td>\n",
              "      <td>[days_before_request, [[87.0], [87.0], [87.0],...</td>\n",
              "      <td>[loan_amount, 1000]</td>\n",
              "      <td>[loan_date, 2017-08-25]</td>\n",
              "      <td>[isDefault, 0]</td>\n",
              "    </tr>\n",
              "    <tr>\n",
              "      <th>3</th>\n",
              "      <td>[id, 000CAC25-AFBD-455D-9367-D23FB38D17B0-250]</td>\n",
              "      <td>[dates, [2017-08-17, 2017-08-17, 2017-08-17, 2...</td>\n",
              "      <td>[transaction_amount, [[-360.0], [105.82], [192...</td>\n",
              "      <td>[days_before_request, [[88.0], [88.0], [88.0],...</td>\n",
              "      <td>[loan_amount, 250]</td>\n",
              "      <td>[loan_date, 2017-11-12]</td>\n",
              "      <td>[isDefault, 0]</td>\n",
              "    </tr>\n",
              "    <tr>\n",
              "      <th>4</th>\n",
              "      <td>[id, 000E9C38-708E-40F7-8ABC-9DF55B77BB54-500]</td>\n",
              "      <td>[dates, [2016-08-29, 2016-08-29, 2016-08-29, 2...</td>\n",
              "      <td>[transaction_amount, [[-2.16], [-4.96], [-17.4...</td>\n",
              "      <td>[days_before_request, [[88.0], [88.0], [87.0],...</td>\n",
              "      <td>[loan_amount, 500]</td>\n",
              "      <td>[loan_date, 2016-11-25]</td>\n",
              "      <td>[isDefault, 0]</td>\n",
              "    </tr>\n",
              "  </tbody>\n",
              "</table>\n",
              "</div>"
            ],
            "text/plain": [
              "                                                 0  ...               6\n",
              "0   [id, 00076211-9BBD-4E06-82C2-E9FB7B102964-750]  ...  [isDefault, 1]\n",
              "1   [id, 0009107F-8F57-441C-A590-5773992261A9-500]  ...  [isDefault, 1]\n",
              "2  [id, 000B47CB-514F-446C-B7BE-2F2D304E2F4D-1000]  ...  [isDefault, 0]\n",
              "3   [id, 000CAC25-AFBD-455D-9367-D23FB38D17B0-250]  ...  [isDefault, 0]\n",
              "4   [id, 000E9C38-708E-40F7-8ABC-9DF55B77BB54-500]  ...  [isDefault, 0]\n",
              "\n",
              "[5 rows x 7 columns]"
            ]
          },
          "metadata": {
            "tags": []
          },
          "execution_count": 26
        }
      ]
    },
    {
      "cell_type": "markdown",
      "metadata": {
        "id": "X3KsZK4jO4Ky",
        "colab_type": "text"
      },
      "source": [
        "# Feature_Creation"
      ]
    },
    {
      "cell_type": "code",
      "metadata": {
        "id": "S9B1VoHRO4Kz",
        "colab_type": "code",
        "colab": {}
      },
      "source": [
        "#change columns names\n",
        "df.columns = ['id', 'dates', 'transaction_amount', 'days_before_request', 'loan_amount', 'loan_date', 'isDefault']\n",
        "#extract_id\n",
        "df['id'] = df.iloc[:,0].apply(lambda x : x[1])\n",
        "#extract_dates\n",
        "df['dates'] = df.iloc[:,1].apply(lambda x : x[1])\n",
        "#extract_transaction_amount\n",
        "df['transaction_amount'] = df.iloc[:,2].apply(lambda x : x[1])\n",
        "#extract_days\n",
        "df['days_before_request'] = df.iloc[:,3].apply(lambda x : x[1])\n",
        "#extract_loan\n",
        "df['loan_amount'] = df.iloc[:,4].apply(lambda x : x[1])\n",
        "#extract_date\n",
        "df['loan_date'] = df.iloc[:,5].apply(lambda x : x[1])\n",
        "\n",
        "\n",
        "df['transaction_amount'] = df.iloc[:,2].apply(lambda x : np.concatenate(x, axis=0))\n",
        "df['days_before_request'] = df.iloc[:,3].apply(lambda x : np.concatenate(x, axis=0))\n",
        "\n",
        "#feature_created\n",
        "df['max_amount'] = df.iloc[:,2].apply(lambda x : np.max(x))\n",
        "df['min_amount'] = df.iloc[:,2].apply(lambda x : np.min(x))\n",
        "df['median_amount'] = df.iloc[:,2].apply(lambda x : np.median(x))\n",
        "df['mean_amount'] = df.iloc[:,2].apply(lambda x : np.mean(x))\n",
        "\n",
        "df['max_days'] = df.iloc[:,3].apply(lambda x : np.max(x))\n",
        "df['min_days'] =  df.iloc[:,3].apply(lambda x : np.min(x))\n",
        "df['median_days'] = df.iloc[:,3].apply(lambda x : np.median(x))\n",
        "df['mean_days'] = df.iloc[:,3].apply(lambda x : np.mean(x))\n",
        "\n",
        "df['loan_date'] = df.loc[:,'loan_date'].apply(lambda x : pd.to_datetime(x))\n",
        "#reindexing and dropping dates(insignificant feature)\n",
        "\n",
        "df = df.drop('dates', axis=1)\n",
        "df.set_index('id', inplace=True)\n",
        "\n",
        "#getting total no of debit transaction\n",
        "def num_debit(array):\n",
        "    n = len(array)\n",
        "   \n",
        "    debit=0\n",
        "    for i in range(0,n):\n",
        "        if(array[i]>=0):\n",
        "            debit+=1\n",
        "      \n",
        "    return debit     \n",
        "\n",
        "#total no of credit transaction\n",
        "def num_credit(array):\n",
        "    n = len(array)\n",
        "    \n",
        "    credit=0\n",
        "    for i in range(0,n):\n",
        "        if(array[i]<0):\n",
        "            credit+=1\n",
        "      \n",
        "    return credit   \n",
        "\n",
        "\n",
        "#all debit values\n",
        "def debit_values(array):\n",
        "    n = len(array)\n",
        "    debit_list = []\n",
        "    for i in range(0,n):\n",
        "        if(array[i]>=0):\n",
        "            debit_list.append(array[i])\n",
        "      \n",
        "    return debit_list     \n",
        "        \n",
        " #all credit values\n",
        "\n",
        "def credit_values(array):\n",
        "    n = len(array)\n",
        "    credit_list = []\n",
        "    for i in range(0,n):\n",
        "        if(array[i] < 0):\n",
        "            credit_list.append(array[i])\n",
        "      \n",
        "    return credit_list\n",
        "\n",
        "\n",
        "#getting debit and credit values\n",
        "df['debit_values'] = df.iloc[:,0].apply(lambda x : np.array(debit_values(x))) \n",
        "df['credit_values'] = df.iloc[:,0].apply(lambda x : np.array(credit_values(x)))\n",
        "\n",
        "#creating features distinguishly for debit and credit transactions\n",
        "\n",
        "df['debit_min_amount'] = df.iloc[:,13].apply(lambda x : np.min(x) if len(x)>0 else 0)\n",
        "df['debit_max_amount'] = df.iloc[:,13].apply(lambda x : np.max(x) if len(x)>0 else 0)\n",
        "df['debit_median_amount'] = df.iloc[:,13].apply(lambda x : np.median(x) if len(x)>0 else 0)\n",
        "df['debit_mean_amount'] = df.iloc[:,13].apply(lambda x : np.mean(x) if len(x)>0 else 0)\n",
        "\n",
        "df['credit_min_amount'] = df.iloc[:,14].apply(lambda x : np.min(x) if len(x)>0 else 0)\n",
        "df['credit_max_amount'] = df.iloc[:,14].apply(lambda x : np.max(x) if len(x)>0 else 0)\n",
        "df['credit_median_amount'] = df.iloc[:,14].apply(lambda x : np.median(x) if len(x)>0 else 0)\n",
        "df['credit_mean_amount'] = df.iloc[:,14].apply(lambda x : np.mean(x) if len(x)>0 else 0)\n",
        "\n",
        "\n",
        "\n",
        "\n",
        "#no of debit and credit data\n",
        "df['no_debit'] = df.iloc[:,0].apply(lambda x : num_debit(x))\n",
        "df['no_credit'] = df.iloc[:,0].apply(lambda x : num_credit(x))\n",
        "\n",
        "#dropping unnecessary features\n",
        "df = df.drop(['debit_values', 'credit_values','transaction_amount', 'days_before_request', 'loan_date'], axis=1)"
      ],
      "execution_count": 0,
      "outputs": []
    },
    {
      "cell_type": "code",
      "metadata": {
        "id": "TYDMqEGBO4K2",
        "colab_type": "code",
        "outputId": "3a281ff8-a644-4193-99b2-a50cc542b843",
        "colab": {
          "base_uri": "https://localhost:8080/",
          "height": 544
        }
      },
      "source": [
        "df.head()"
      ],
      "execution_count": 28,
      "outputs": [
        {
          "output_type": "execute_result",
          "data": {
            "text/html": [
              "<div>\n",
              "<style scoped>\n",
              "    .dataframe tbody tr th:only-of-type {\n",
              "        vertical-align: middle;\n",
              "    }\n",
              "\n",
              "    .dataframe tbody tr th {\n",
              "        vertical-align: top;\n",
              "    }\n",
              "\n",
              "    .dataframe thead th {\n",
              "        text-align: right;\n",
              "    }\n",
              "</style>\n",
              "<table border=\"1\" class=\"dataframe\">\n",
              "  <thead>\n",
              "    <tr style=\"text-align: right;\">\n",
              "      <th></th>\n",
              "      <th>loan_amount</th>\n",
              "      <th>isDefault</th>\n",
              "      <th>max_amount</th>\n",
              "      <th>min_amount</th>\n",
              "      <th>median_amount</th>\n",
              "      <th>mean_amount</th>\n",
              "      <th>max_days</th>\n",
              "      <th>min_days</th>\n",
              "      <th>median_days</th>\n",
              "      <th>mean_days</th>\n",
              "      <th>debit_min_amount</th>\n",
              "      <th>debit_max_amount</th>\n",
              "      <th>debit_median_amount</th>\n",
              "      <th>debit_mean_amount</th>\n",
              "      <th>credit_min_amount</th>\n",
              "      <th>credit_max_amount</th>\n",
              "      <th>credit_median_amount</th>\n",
              "      <th>credit_mean_amount</th>\n",
              "      <th>no_debit</th>\n",
              "      <th>no_credit</th>\n",
              "    </tr>\n",
              "    <tr>\n",
              "      <th>id</th>\n",
              "      <th></th>\n",
              "      <th></th>\n",
              "      <th></th>\n",
              "      <th></th>\n",
              "      <th></th>\n",
              "      <th></th>\n",
              "      <th></th>\n",
              "      <th></th>\n",
              "      <th></th>\n",
              "      <th></th>\n",
              "      <th></th>\n",
              "      <th></th>\n",
              "      <th></th>\n",
              "      <th></th>\n",
              "      <th></th>\n",
              "      <th></th>\n",
              "      <th></th>\n",
              "      <th></th>\n",
              "      <th></th>\n",
              "      <th></th>\n",
              "    </tr>\n",
              "  </thead>\n",
              "  <tbody>\n",
              "    <tr>\n",
              "      <th>00076211-9BBD-4E06-82C2-E9FB7B102964-750</th>\n",
              "      <td>750</td>\n",
              "      <td>[isDefault, 1]</td>\n",
              "      <td>3082.73</td>\n",
              "      <td>-562.00</td>\n",
              "      <td>-32.240</td>\n",
              "      <td>-3.557400</td>\n",
              "      <td>79.0</td>\n",
              "      <td>38.0</td>\n",
              "      <td>52.0</td>\n",
              "      <td>56.300000</td>\n",
              "      <td>0.01</td>\n",
              "      <td>3082.73</td>\n",
              "      <td>60.000</td>\n",
              "      <td>440.055172</td>\n",
              "      <td>-562.00</td>\n",
              "      <td>-0.01</td>\n",
              "      <td>-46.700</td>\n",
              "      <td>-78.789942</td>\n",
              "      <td>29</td>\n",
              "      <td>171</td>\n",
              "    </tr>\n",
              "    <tr>\n",
              "      <th>0009107F-8F57-441C-A590-5773992261A9-500</th>\n",
              "      <td>500</td>\n",
              "      <td>[isDefault, 1]</td>\n",
              "      <td>1507.26</td>\n",
              "      <td>-1507.26</td>\n",
              "      <td>-3.985</td>\n",
              "      <td>2.387382</td>\n",
              "      <td>89.0</td>\n",
              "      <td>1.0</td>\n",
              "      <td>48.0</td>\n",
              "      <td>44.717277</td>\n",
              "      <td>0.01</td>\n",
              "      <td>1507.26</td>\n",
              "      <td>4.000</td>\n",
              "      <td>178.169900</td>\n",
              "      <td>-1507.26</td>\n",
              "      <td>-0.50</td>\n",
              "      <td>-13.405</td>\n",
              "      <td>-59.946844</td>\n",
              "      <td>100</td>\n",
              "      <td>282</td>\n",
              "    </tr>\n",
              "    <tr>\n",
              "      <th>000B47CB-514F-446C-B7BE-2F2D304E2F4D-1000</th>\n",
              "      <td>1000</td>\n",
              "      <td>[isDefault, 0]</td>\n",
              "      <td>1639.35</td>\n",
              "      <td>-811.23</td>\n",
              "      <td>-20.330</td>\n",
              "      <td>1.553517</td>\n",
              "      <td>87.0</td>\n",
              "      <td>38.0</td>\n",
              "      <td>62.0</td>\n",
              "      <td>60.059322</td>\n",
              "      <td>20.00</td>\n",
              "      <td>1639.35</td>\n",
              "      <td>783.715</td>\n",
              "      <td>921.300000</td>\n",
              "      <td>-811.23</td>\n",
              "      <td>-0.01</td>\n",
              "      <td>-22.590</td>\n",
              "      <td>-56.448514</td>\n",
              "      <td>14</td>\n",
              "      <td>222</td>\n",
              "    </tr>\n",
              "    <tr>\n",
              "      <th>000CAC25-AFBD-455D-9367-D23FB38D17B0-250</th>\n",
              "      <td>250</td>\n",
              "      <td>[isDefault, 0]</td>\n",
              "      <td>1000.00</td>\n",
              "      <td>-900.00</td>\n",
              "      <td>-9.990</td>\n",
              "      <td>1.335502</td>\n",
              "      <td>88.0</td>\n",
              "      <td>38.0</td>\n",
              "      <td>66.0</td>\n",
              "      <td>61.510040</td>\n",
              "      <td>0.10</td>\n",
              "      <td>1000.00</td>\n",
              "      <td>30.000</td>\n",
              "      <td>197.990000</td>\n",
              "      <td>-900.00</td>\n",
              "      <td>-0.10</td>\n",
              "      <td>-16.955</td>\n",
              "      <td>-46.844850</td>\n",
              "      <td>49</td>\n",
              "      <td>200</td>\n",
              "    </tr>\n",
              "    <tr>\n",
              "      <th>000E9C38-708E-40F7-8ABC-9DF55B77BB54-500</th>\n",
              "      <td>500</td>\n",
              "      <td>[isDefault, 0]</td>\n",
              "      <td>806.39</td>\n",
              "      <td>-320.09</td>\n",
              "      <td>-10.010</td>\n",
              "      <td>-1.189833</td>\n",
              "      <td>88.0</td>\n",
              "      <td>38.0</td>\n",
              "      <td>63.5</td>\n",
              "      <td>60.516667</td>\n",
              "      <td>38.90</td>\n",
              "      <td>806.39</td>\n",
              "      <td>215.000</td>\n",
              "      <td>375.659231</td>\n",
              "      <td>-320.09</td>\n",
              "      <td>-0.50</td>\n",
              "      <td>-10.870</td>\n",
              "      <td>-22.771498</td>\n",
              "      <td>13</td>\n",
              "      <td>227</td>\n",
              "    </tr>\n",
              "  </tbody>\n",
              "</table>\n",
              "</div>"
            ],
            "text/plain": [
              "                                           loan_amount  ... no_credit\n",
              "id                                                      ...          \n",
              "00076211-9BBD-4E06-82C2-E9FB7B102964-750           750  ...       171\n",
              "0009107F-8F57-441C-A590-5773992261A9-500           500  ...       282\n",
              "000B47CB-514F-446C-B7BE-2F2D304E2F4D-1000         1000  ...       222\n",
              "000CAC25-AFBD-455D-9367-D23FB38D17B0-250           250  ...       200\n",
              "000E9C38-708E-40F7-8ABC-9DF55B77BB54-500           500  ...       227\n",
              "\n",
              "[5 rows x 20 columns]"
            ]
          },
          "metadata": {
            "tags": []
          },
          "execution_count": 28
        }
      ]
    },
    {
      "cell_type": "code",
      "metadata": {
        "id": "0HzUgPxqO4K4",
        "colab_type": "code",
        "colab": {}
      },
      "source": [
        "train_df = df.iloc[0:10000, :]\n",
        "test_df = df.iloc[10000:,:]\n",
        "train_df['isDefault'] = train_df.iloc[:,1].apply(lambda x : x[1])"
      ],
      "execution_count": 0,
      "outputs": []
    },
    {
      "cell_type": "code",
      "metadata": {
        "id": "KYz29aZRO4K7",
        "colab_type": "code",
        "outputId": "c09b00aa-b5eb-41c6-a9f4-506c29419572",
        "colab": {
          "base_uri": "https://localhost:8080/",
          "height": 544
        }
      },
      "source": [
        "train_df.head()"
      ],
      "execution_count": 30,
      "outputs": [
        {
          "output_type": "execute_result",
          "data": {
            "text/html": [
              "<div>\n",
              "<style scoped>\n",
              "    .dataframe tbody tr th:only-of-type {\n",
              "        vertical-align: middle;\n",
              "    }\n",
              "\n",
              "    .dataframe tbody tr th {\n",
              "        vertical-align: top;\n",
              "    }\n",
              "\n",
              "    .dataframe thead th {\n",
              "        text-align: right;\n",
              "    }\n",
              "</style>\n",
              "<table border=\"1\" class=\"dataframe\">\n",
              "  <thead>\n",
              "    <tr style=\"text-align: right;\">\n",
              "      <th></th>\n",
              "      <th>loan_amount</th>\n",
              "      <th>isDefault</th>\n",
              "      <th>max_amount</th>\n",
              "      <th>min_amount</th>\n",
              "      <th>median_amount</th>\n",
              "      <th>mean_amount</th>\n",
              "      <th>max_days</th>\n",
              "      <th>min_days</th>\n",
              "      <th>median_days</th>\n",
              "      <th>mean_days</th>\n",
              "      <th>debit_min_amount</th>\n",
              "      <th>debit_max_amount</th>\n",
              "      <th>debit_median_amount</th>\n",
              "      <th>debit_mean_amount</th>\n",
              "      <th>credit_min_amount</th>\n",
              "      <th>credit_max_amount</th>\n",
              "      <th>credit_median_amount</th>\n",
              "      <th>credit_mean_amount</th>\n",
              "      <th>no_debit</th>\n",
              "      <th>no_credit</th>\n",
              "    </tr>\n",
              "    <tr>\n",
              "      <th>id</th>\n",
              "      <th></th>\n",
              "      <th></th>\n",
              "      <th></th>\n",
              "      <th></th>\n",
              "      <th></th>\n",
              "      <th></th>\n",
              "      <th></th>\n",
              "      <th></th>\n",
              "      <th></th>\n",
              "      <th></th>\n",
              "      <th></th>\n",
              "      <th></th>\n",
              "      <th></th>\n",
              "      <th></th>\n",
              "      <th></th>\n",
              "      <th></th>\n",
              "      <th></th>\n",
              "      <th></th>\n",
              "      <th></th>\n",
              "      <th></th>\n",
              "    </tr>\n",
              "  </thead>\n",
              "  <tbody>\n",
              "    <tr>\n",
              "      <th>00076211-9BBD-4E06-82C2-E9FB7B102964-750</th>\n",
              "      <td>750</td>\n",
              "      <td>1</td>\n",
              "      <td>3082.73</td>\n",
              "      <td>-562.00</td>\n",
              "      <td>-32.240</td>\n",
              "      <td>-3.557400</td>\n",
              "      <td>79.0</td>\n",
              "      <td>38.0</td>\n",
              "      <td>52.0</td>\n",
              "      <td>56.300000</td>\n",
              "      <td>0.01</td>\n",
              "      <td>3082.73</td>\n",
              "      <td>60.000</td>\n",
              "      <td>440.055172</td>\n",
              "      <td>-562.00</td>\n",
              "      <td>-0.01</td>\n",
              "      <td>-46.700</td>\n",
              "      <td>-78.789942</td>\n",
              "      <td>29</td>\n",
              "      <td>171</td>\n",
              "    </tr>\n",
              "    <tr>\n",
              "      <th>0009107F-8F57-441C-A590-5773992261A9-500</th>\n",
              "      <td>500</td>\n",
              "      <td>1</td>\n",
              "      <td>1507.26</td>\n",
              "      <td>-1507.26</td>\n",
              "      <td>-3.985</td>\n",
              "      <td>2.387382</td>\n",
              "      <td>89.0</td>\n",
              "      <td>1.0</td>\n",
              "      <td>48.0</td>\n",
              "      <td>44.717277</td>\n",
              "      <td>0.01</td>\n",
              "      <td>1507.26</td>\n",
              "      <td>4.000</td>\n",
              "      <td>178.169900</td>\n",
              "      <td>-1507.26</td>\n",
              "      <td>-0.50</td>\n",
              "      <td>-13.405</td>\n",
              "      <td>-59.946844</td>\n",
              "      <td>100</td>\n",
              "      <td>282</td>\n",
              "    </tr>\n",
              "    <tr>\n",
              "      <th>000B47CB-514F-446C-B7BE-2F2D304E2F4D-1000</th>\n",
              "      <td>1000</td>\n",
              "      <td>0</td>\n",
              "      <td>1639.35</td>\n",
              "      <td>-811.23</td>\n",
              "      <td>-20.330</td>\n",
              "      <td>1.553517</td>\n",
              "      <td>87.0</td>\n",
              "      <td>38.0</td>\n",
              "      <td>62.0</td>\n",
              "      <td>60.059322</td>\n",
              "      <td>20.00</td>\n",
              "      <td>1639.35</td>\n",
              "      <td>783.715</td>\n",
              "      <td>921.300000</td>\n",
              "      <td>-811.23</td>\n",
              "      <td>-0.01</td>\n",
              "      <td>-22.590</td>\n",
              "      <td>-56.448514</td>\n",
              "      <td>14</td>\n",
              "      <td>222</td>\n",
              "    </tr>\n",
              "    <tr>\n",
              "      <th>000CAC25-AFBD-455D-9367-D23FB38D17B0-250</th>\n",
              "      <td>250</td>\n",
              "      <td>0</td>\n",
              "      <td>1000.00</td>\n",
              "      <td>-900.00</td>\n",
              "      <td>-9.990</td>\n",
              "      <td>1.335502</td>\n",
              "      <td>88.0</td>\n",
              "      <td>38.0</td>\n",
              "      <td>66.0</td>\n",
              "      <td>61.510040</td>\n",
              "      <td>0.10</td>\n",
              "      <td>1000.00</td>\n",
              "      <td>30.000</td>\n",
              "      <td>197.990000</td>\n",
              "      <td>-900.00</td>\n",
              "      <td>-0.10</td>\n",
              "      <td>-16.955</td>\n",
              "      <td>-46.844850</td>\n",
              "      <td>49</td>\n",
              "      <td>200</td>\n",
              "    </tr>\n",
              "    <tr>\n",
              "      <th>000E9C38-708E-40F7-8ABC-9DF55B77BB54-500</th>\n",
              "      <td>500</td>\n",
              "      <td>0</td>\n",
              "      <td>806.39</td>\n",
              "      <td>-320.09</td>\n",
              "      <td>-10.010</td>\n",
              "      <td>-1.189833</td>\n",
              "      <td>88.0</td>\n",
              "      <td>38.0</td>\n",
              "      <td>63.5</td>\n",
              "      <td>60.516667</td>\n",
              "      <td>38.90</td>\n",
              "      <td>806.39</td>\n",
              "      <td>215.000</td>\n",
              "      <td>375.659231</td>\n",
              "      <td>-320.09</td>\n",
              "      <td>-0.50</td>\n",
              "      <td>-10.870</td>\n",
              "      <td>-22.771498</td>\n",
              "      <td>13</td>\n",
              "      <td>227</td>\n",
              "    </tr>\n",
              "  </tbody>\n",
              "</table>\n",
              "</div>"
            ],
            "text/plain": [
              "                                           loan_amount  ...  no_credit\n",
              "id                                                      ...           \n",
              "00076211-9BBD-4E06-82C2-E9FB7B102964-750           750  ...        171\n",
              "0009107F-8F57-441C-A590-5773992261A9-500           500  ...        282\n",
              "000B47CB-514F-446C-B7BE-2F2D304E2F4D-1000         1000  ...        222\n",
              "000CAC25-AFBD-455D-9367-D23FB38D17B0-250           250  ...        200\n",
              "000E9C38-708E-40F7-8ABC-9DF55B77BB54-500           500  ...        227\n",
              "\n",
              "[5 rows x 20 columns]"
            ]
          },
          "metadata": {
            "tags": []
          },
          "execution_count": 30
        }
      ]
    },
    {
      "cell_type": "markdown",
      "metadata": {
        "id": "o1PMNV1fO4LA",
        "colab_type": "text"
      },
      "source": [
        "# Preprocessing"
      ]
    },
    {
      "cell_type": "code",
      "metadata": {
        "id": "DNwnPITpO4LB",
        "colab_type": "code",
        "colab": {}
      },
      "source": [
        "# import labelencoder\n",
        "from sklearn.preprocessing import LabelEncoder\n",
        "# instantiate labelencoder object\n",
        "le = LabelEncoder()\n",
        "# apply le on categorical feature columns\n",
        "\n",
        "\n",
        "X = train_df.drop('isDefault', axis=1)\n",
        "y = train_df['isDefault']\n"
      ],
      "execution_count": 0,
      "outputs": []
    },
    {
      "cell_type": "code",
      "metadata": {
        "id": "HaObgqe_O4LG",
        "colab_type": "code",
        "colab": {}
      },
      "source": [
        "#Split Data\n",
        "X_train, X_test, y_train, y_test = train_test_split(X, y, test_size = 0.1, random_state = 0)\n",
        "\n",
        "#Scale Data\n",
        "sc= StandardScaler()\n",
        "X_train = sc.fit_transform(X_train)\n",
        "X_train=pd.DataFrame(X_train,columns=X.columns)\n",
        "X_test=sc.transform(X_test)\n",
        "\n"
      ],
      "execution_count": 0,
      "outputs": []
    },
    {
      "cell_type": "markdown",
      "metadata": {
        "id": "u-SyMgnyO4LK",
        "colab_type": "text"
      },
      "source": [
        "# Models "
      ]
    },
    {
      "cell_type": "code",
      "metadata": {
        "id": "5WyWI7OxO4LM",
        "colab_type": "code",
        "outputId": "60498080-aaf3-447d-ceb9-4667a669eb91",
        "colab": {
          "base_uri": "https://localhost:8080/",
          "height": 449
        }
      },
      "source": [
        "#Apply RandomForest Algorethm\n",
        "random_classifier= RandomForestClassifier()\n",
        "random_classifier.fit(X_train,y_train)\n",
        "y_pred= random_classifier.predict(X_test)\n",
        "\n",
        "#Classification Report\n",
        "print(classification_report(y_test,y_pred))\n",
        "\n",
        "#Confusion Matrix\n",
        "mat = confusion_matrix(y_test, y_pred)\n",
        "sns.heatmap(mat.T, square=True, annot=True, fmt='d', cbar=False,\n",
        "          xticklabels=['No','Yes'],\n",
        "          yticklabels=['No','Yes'] )\n",
        "plt.xlabel('true label')\n",
        "plt.ylabel('predicted label')\n"
      ],
      "execution_count": 33,
      "outputs": [
        {
          "output_type": "stream",
          "text": [
            "              precision    recall  f1-score   support\n",
            "\n",
            "           0       0.78      0.93      0.85       755\n",
            "           1       0.49      0.22      0.30       245\n",
            "\n",
            "    accuracy                           0.75      1000\n",
            "   macro avg       0.64      0.57      0.57      1000\n",
            "weighted avg       0.71      0.75      0.71      1000\n",
            "\n"
          ],
          "name": "stdout"
        },
        {
          "output_type": "execute_result",
          "data": {
            "text/plain": [
              "Text(91.68, 0.5, 'predicted label')"
            ]
          },
          "metadata": {
            "tags": []
          },
          "execution_count": 33
        },
        {
          "output_type": "display_data",
          "data": {
            "image/png": "[encoded data removed]",
            "text/plain": [
              "<Figure size 432x288 with 1 Axes>"
            ]
          },
          "metadata": {
            "tags": []
          }
        }
      ]
    },
    {
      "cell_type": "code",
      "metadata": {
        "id": "kr51Cgu0O4LS",
        "colab_type": "code",
        "colab": {}
      },
      "source": [
        "TN=mat[0,0]\n",
        "TP=mat[1,1]\n",
        "FN=mat[1,0]\n",
        "FP=mat[0,1]\n",
        "sensitivity=TP/float(TP+FN)\n",
        "specificity=TN/float(TN+FP)"
      ],
      "execution_count": 0,
      "outputs": []
    },
    {
      "cell_type": "code",
      "metadata": {
        "id": "Wnhh5DSUO4LX",
        "colab_type": "code",
        "outputId": "a63319d0-6665-4e19-f206-2fb19963b91f",
        "colab": {
          "base_uri": "https://localhost:8080/",
          "height": 153
        }
      },
      "source": [
        "print('The acuuracy of the model = TP+TN/(TP+TN+FP+FN) = ',(TP+TN)/float(TP+TN+FP+FN),'\\n',\n",
        "\n",
        "'The Missclassification = 1-Accuracy = ',1-((TP+TN)/float(TP+TN+FP+FN)),'\\n',\n",
        "\n",
        "'Sensitivity or True Positive Rate = TP/(TP+FN) = ',TP/float(TP+FN),'\\n',\n",
        "\n",
        "'Specificity or True Negative Rate = TN/(TN+FP) = ',TN/float(TN+FP),'\\n',\n",
        "\n",
        "'Positive Predictive value = TP/(TP+FP) = ',TP/float(TP+FP),'\\n',\n",
        "\n",
        "'Negative predictive Value = TN/(TN+FN) = ',TN/float(TN+FN),'\\n',\n",
        "\n",
        "'Positive Likelihood Ratio = Sensitivity/(1-Specificity) = ',sensitivity/(1-specificity),'\\n',\n",
        "\n",
        "'Negative likelihood Ratio = (1-Sensitivity)/Specificity = ',(1-sensitivity)/specificity)"
      ],
      "execution_count": 35,
      "outputs": [
        {
          "output_type": "stream",
          "text": [
            "The acuuracy of the model = TP+TN/(TP+TN+FP+FN) =  0.752 \n",
            " The Missclassification = 1-Accuracy =  0.248 \n",
            " Sensitivity or True Positive Rate = TP/(TP+FN) =  0.2163265306122449 \n",
            " Specificity or True Negative Rate = TN/(TN+FP) =  0.9258278145695364 \n",
            " Positive Predictive value = TP/(TP+FP) =  0.48623853211009177 \n",
            " Negative predictive Value = TN/(TN+FN) =  0.7845117845117845 \n",
            " Positive Likelihood Ratio = Sensitivity/(1-Specificity) =  2.916545189504374 \n",
            " Negative likelihood Ratio = (1-Sensitivity)/Specificity =  0.8464570377507226\n"
          ],
          "name": "stdout"
        }
      ]
    },
    {
      "cell_type": "code",
      "metadata": {
        "id": "qgw01CftO4La",
        "colab_type": "code",
        "outputId": "83ffe369-7e61-4e06-a76c-e32787390559",
        "colab": {
          "base_uri": "https://localhost:8080/",
          "height": 357
        }
      },
      "source": [
        "#get features Importances\n",
        "xx= pd.Series(random_classifier.feature_importances_,index=X.columns)\n",
        "xx.sort_values(ascending=False)"
      ],
      "execution_count": 36,
      "outputs": [
        {
          "output_type": "execute_result",
          "data": {
            "text/plain": [
              "median_amount           0.072053\n",
              "credit_median_amount    0.068866\n",
              "no_credit               0.066837\n",
              "credit_mean_amount      0.066753\n",
              "mean_amount             0.065064\n",
              "debit_mean_amount       0.063908\n",
              "debit_max_amount        0.061610\n",
              "no_debit                0.059429\n",
              "max_amount              0.059131\n",
              "debit_median_amount     0.058634\n",
              "loan_amount             0.055500\n",
              "mean_days               0.052178\n",
              "credit_max_amount       0.050889\n",
              "min_amount              0.050340\n",
              "debit_min_amount        0.049804\n",
              "credit_min_amount       0.047684\n",
              "median_days             0.024730\n",
              "max_days                0.022734\n",
              "min_days                0.003856\n",
              "dtype: float64"
            ]
          },
          "metadata": {
            "tags": []
          },
          "execution_count": 36
        }
      ]
    },
    {
      "cell_type": "markdown",
      "metadata": {
        "id": "yE6uDCEFO4Le",
        "colab_type": "text"
      },
      "source": [
        "# Other Models"
      ]
    },
    {
      "cell_type": "code",
      "metadata": {
        "id": "nikoOzgPO4Lg",
        "colab_type": "code",
        "colab": {}
      },
      "source": [
        "y_test = y_test.values.reshape(-1)"
      ],
      "execution_count": 0,
      "outputs": []
    },
    {
      "cell_type": "code",
      "metadata": {
        "id": "B0PjUnVVO4Ll",
        "colab_type": "code",
        "outputId": "294b7c22-a5aa-4d1b-e57b-c62ec13100e6",
        "colab": {
          "base_uri": "https://localhost:8080/",
          "height": 34
        }
      },
      "source": [
        "X_test.shape"
      ],
      "execution_count": 38,
      "outputs": [
        {
          "output_type": "execute_result",
          "data": {
            "text/plain": [
              "(1000, 19)"
            ]
          },
          "metadata": {
            "tags": []
          },
          "execution_count": 38
        }
      ]
    },
    {
      "cell_type": "code",
      "metadata": {
        "id": "DPRKvUTmO4Lp",
        "colab_type": "code",
        "outputId": "f4088d2e-4a1b-4511-9d98-873c1af5bba7",
        "colab": {
          "base_uri": "https://localhost:8080/",
          "height": 187
        }
      },
      "source": [
        "classifiers = [['DecisionTree :',DecisionTreeClassifier()],\n",
        "               ['RandomForest :',RandomForestClassifier()], \n",
        "               ['Naive Bayes :', GaussianNB()],\n",
        "               ['KNeighbours :', KNeighborsClassifier()],\n",
        "               ['SVM :', SVC(kernel='rbf')],\n",
        "               ['Neural Network :', MLPClassifier()],\n",
        "               ['LogisticRegression :', LogisticRegression()],\n",
        "               ['ExtraTreesClassifier :', ExtraTreesClassifier()],\n",
        "               ['AdaBoostClassifier :', AdaBoostClassifier()],\n",
        "               ['GradientBoostingClassifier: ', GradientBoostingClassifier()]]\n",
        "\n",
        "predictions_df = pd.DataFrame()\n",
        "predictions_df['actual_labels'] = y_test\n",
        "\n",
        "for name,classifier in classifiers:\n",
        "    classifier = classifier\n",
        "    classifier.fit(X_train, y_train)\n",
        "    predictions = classifier.predict(X_test)\n",
        "    predictions_df[name.strip(\" :\")] = predictions\n",
        "    print(name, accuracy_score(y_test, predictions))"
      ],
      "execution_count": 39,
      "outputs": [
        {
          "output_type": "stream",
          "text": [
            "DecisionTree : 0.666\n",
            "RandomForest : 0.745\n",
            "Naive Bayes : 0.567\n",
            "KNeighbours : 0.712\n",
            "SVM : 0.765\n",
            "Neural Network : 0.745\n",
            "LogisticRegression : 0.758\n",
            "ExtraTreesClassifier : 0.741\n",
            "AdaBoostClassifier : 0.769\n",
            "GradientBoostingClassifier:  0.765\n"
          ],
          "name": "stdout"
        }
      ]
    },
    {
      "cell_type": "code",
      "metadata": {
        "id": "2k0jb_gBO4Lr",
        "colab_type": "code",
        "outputId": "7d802f96-b809-45cb-fb23-e1a954f96c35",
        "colab": {
          "base_uri": "https://localhost:8080/",
          "height": 493
        }
      },
      "source": [
        "'''from sklearn.linear_model import LogisticRegression\n",
        "logreg=LogisticRegression(class_weight={0:.4, 1:.6})\n",
        "logreg.fit(X_train,y_train)\n",
        "y_pred=logreg.predict(X_test)\n",
        "print(y_pred)'''\n",
        "\n",
        "from sklearn.ensemble import GradientBoostingClassifier\n",
        "logreg=GradientBoostingClassifier(max_features=12, random_state=10)\n",
        "logreg.fit(X_train,y_train)\n",
        "y_pred=logreg.predict(X_test)\n",
        "print(y_pred)"
      ],
      "execution_count": 40,
      "outputs": [
        {
          "output_type": "stream",
          "text": [
            "[0 0 0 0 0 0 0 0 0 1 0 0 0 0 0 0 0 0 0 0 1 0 0 0 0 0 0 0 0 0 0 0 0 0 0 0 0\n",
            " 0 0 0 1 1 0 0 0 0 0 0 0 0 0 0 0 0 0 0 0 0 0 0 0 0 0 0 0 0 0 0 0 0 0 0 0 0\n",
            " 1 0 0 0 0 0 0 0 0 0 0 0 0 0 0 0 1 1 0 0 0 0 0 1 0 0 1 0 0 0 0 0 0 0 0 0 0\n",
            " 0 0 0 0 0 0 0 0 0 0 0 0 0 0 0 0 0 0 0 0 0 0 0 0 0 0 0 0 0 0 0 0 0 0 1 0 0\n",
            " 0 0 0 0 0 0 0 0 0 0 0 0 0 0 0 0 0 0 0 0 0 0 0 0 0 0 0 0 0 0 0 0 0 0 0 0 0\n",
            " 0 0 0 0 0 0 0 0 0 0 0 0 0 1 0 0 1 0 0 0 0 0 0 0 0 0 0 0 0 0 0 0 0 1 0 0 0\n",
            " 1 0 0 1 0 0 0 0 0 0 0 0 0 0 0 0 0 0 0 0 0 0 0 0 0 1 0 0 0 0 0 1 0 0 1 0 0\n",
            " 0 0 0 0 0 0 1 0 0 0 0 0 1 0 0 1 0 0 0 0 0 0 0 0 0 1 0 0 0 0 0 0 0 0 0 0 0\n",
            " 0 0 0 0 1 0 0 0 1 0 0 0 0 0 1 0 0 0 0 0 0 0 0 0 0 0 0 0 0 0 0 0 0 0 0 0 0\n",
            " 0 0 0 0 0 0 0 0 0 0 0 0 0 0 0 0 0 0 0 0 0 0 0 0 0 0 0 0 0 0 1 0 0 0 0 0 0\n",
            " 0 0 0 0 0 0 0 0 0 0 0 0 0 0 1 0 0 0 0 0 0 0 0 0 0 0 0 0 0 0 0 0 0 0 0 0 0\n",
            " 0 0 0 1 0 0 0 0 0 0 0 0 0 0 0 0 0 0 0 0 0 0 0 0 0 0 0 0 0 0 0 0 0 0 0 0 0\n",
            " 0 0 0 1 0 0 0 0 0 0 0 0 0 0 0 0 0 0 0 0 0 0 0 0 1 0 0 0 0 1 0 0 0 0 0 0 1\n",
            " 0 0 0 0 0 0 0 0 0 0 0 0 0 0 0 0 0 0 0 0 0 0 0 0 0 1 0 0 0 0 0 0 0 0 0 0 0\n",
            " 0 0 0 0 0 0 0 0 0 0 0 0 0 0 0 0 0 0 0 0 0 0 0 0 0 0 0 0 0 1 0 0 0 0 0 0 0\n",
            " 0 1 0 0 0 0 0 0 0 0 0 0 0 0 0 0 0 0 0 0 1 0 0 0 0 0 0 0 0 0 0 0 0 0 0 0 0\n",
            " 0 0 0 0 0 0 0 0 0 0 0 0 0 0 0 0 0 1 0 0 0 1 0 0 0 1 0 0 0 0 0 0 0 0 0 0 0\n",
            " 0 0 0 0 0 0 0 0 0 0 1 1 0 0 0 0 0 0 1 0 0 0 0 0 0 1 0 0 0 0 0 0 0 0 0 0 0\n",
            " 0 0 0 0 0 0 0 0 0 0 0 0 0 1 0 0 1 0 0 0 0 0 0 0 0 0 0 0 0 0 0 0 0 1 0 0 0\n",
            " 0 0 0 0 0 0 0 0 0 0 0 0 0 0 0 0 0 0 0 0 0 0 0 0 0 0 0 0 0 0 0 0 0 0 0 0 0\n",
            " 0 0 0 0 0 0 0 0 0 0 0 0 0 0 0 0 0 0 0 0 0 0 0 0 0 0 0 0 0 0 0 0 0 0 0 0 0\n",
            " 0 0 1 0 0 0 0 0 0 0 0 0 0 0 0 0 0 0 0 0 1 0 0 0 0 0 0 0 0 0 0 0 0 0 0 0 0\n",
            " 0 1 0 0 0 0 0 0 0 0 0 0 0 0 0 0 1 0 0 0 0 0 0 0 0 0 0 1 0 0 0 1 0 0 0 0 0\n",
            " 0 0 0 0 0 0 0 0 0 0 0 0 0 1 0 0 0 1 0 0 0 0 1 0 0 0 0 0 0 0 0 0 0 0 0 0 0\n",
            " 0 0 0 1 0 0 0 0 0 0 1 0 0 1 0 0 0 0 0 0 0 0 0 0 1 0 0 0 0 0 0 0 0 0 0 0 0\n",
            " 0 0 1 0 0 0 0 0 0 0 0 0 0 0 0 0 0 0 0 0 0 0 0 0 0 0 0 1 0 0 0 0 0 0 0 0 0\n",
            " 0 0 0 0 0 0 0 0 0 0 0 0 0 0 0 0 0 0 0 0 0 0 0 1 0 0 0 0 0 0 0 0 0 0 0 0 0\n",
            " 0]\n"
          ],
          "name": "stdout"
        }
      ]
    },
    {
      "cell_type": "code",
      "metadata": {
        "id": "UWasEg7Kc3kh",
        "colab_type": "code",
        "colab": {
          "base_uri": "https://localhost:8080/",
          "height": 54
        },
        "outputId": "af7084f7-e8ac-451e-804d-ae8cba2cc174"
      },
      "source": [
        "'''from sklearn.model_selection import GridSearchCV\n",
        "param = {'n_estimators': range(40, 121, 20), \n",
        "         'learning_rate': [0.05, 0.10, 0.15, 0.20], \n",
        "         'subsample': [0.7, 0.8, 0.9, 1.0], \n",
        "         'max_depth': range(3, 10, 2), \n",
        "         'min_samples_split': [2, 3, 4], \n",
        "         'min_samples_leaf': [1, 2, 3]}\n",
        "gbc = GradientBoostingClassifier(random_state=0)\n",
        "clf = GridSearchCV(gbc, param, cv=3, scoring='f1_macro', \n",
        "                   n_jobs=-1, refit=True, pre_dispatch='2*n_jobs')\n",
        "\n",
        "clf.fit(X_train, y_train)\n",
        "print(clf.cv_results_.keys())'''"
      ],
      "execution_count": 41,
      "outputs": [
        {
          "output_type": "execute_result",
          "data": {
            "text/plain": [
              "\"from sklearn.model_selection import GridSearchCV\\nparam = {'n_estimators': range(40, 121, 20), \\n         'learning_rate': [0.05, 0.10, 0.15, 0.20], \\n         'subsample': [0.7, 0.8, 0.9, 1.0], \\n         'max_depth': range(3, 10, 2), \\n         'min_samples_split': [2, 3, 4], \\n         'min_samples_leaf': [1, 2, 3]}\\ngbc = GradientBoostingClassifier(random_state=0)\\nclf = GridSearchCV(gbc, param, cv=3, scoring='f1_macro', \\n                   n_jobs=-1, refit=True, pre_dispatch='2*n_jobs')\\n\\nclf.fit(X_train, y_train)\\nprint(clf.cv_results_.keys())\""
            ]
          },
          "metadata": {
            "tags": []
          },
          "execution_count": 41
        }
      ]
    },
    {
      "cell_type": "code",
      "metadata": {
        "id": "pZo5iaSZO4Lw",
        "colab_type": "code",
        "colab": {}
      },
      "source": [
        "#Checking Differner Thresholds."
      ],
      "execution_count": 0,
      "outputs": []
    },
    {
      "cell_type": "code",
      "metadata": {
        "colab_type": "code",
        "outputId": "92ea3e84-f8d6-444f-80c6-5ab4e5ea0237",
        "id": "hkt-4i94l12E",
        "colab": {
          "base_uri": "https://localhost:8080/",
          "height": 1000
        }
      },
      "source": [
        "pred_proba_df = pd.DataFrame(logreg.predict_proba(X_test))\n",
        "threshold_list = [0.05,0.1,0.15,0.2,0.25,0.3,0.35,0.4,0.45,0.5,0.55,0.6,0.65,.7,.75,.8,.85,.9,.95,.99]\n",
        "for i in threshold_list:\n",
        "    print ('\\n******** For i = {} ******'.format(i))\n",
        "    Y_test_pred = pred_proba_df.applymap(lambda x: 1 if x>i else 0)\n",
        "    print(Y_test_pred.shape)\n",
        "    test_accuracy = accuracy_score(y_test.reshape(y_test.size,1),\n",
        "                                           Y_test_pred.iloc[:,1].as_matrix().reshape(Y_test_pred.iloc[:,1].as_matrix().size,1))\n",
        "    #print('Our testing accuracy is {}'.format(test_accuracy))\n",
        "\n",
        "    print(confusion_matrix(y_test.reshape(y_test.size,1),\n",
        "                           Y_test_pred.iloc[:,1].as_matrix().reshape(Y_test_pred.iloc[:,1].as_matrix().size,1)))"
      ],
      "execution_count": 43,
      "outputs": [
        {
          "output_type": "stream",
          "text": [
            "\n",
            "******** For i = 0.05 ******\n",
            "(1000, 2)\n",
            "[[  4 751]\n",
            " [  0 245]]\n",
            "\n",
            "******** For i = 0.1 ******\n",
            "(1000, 2)\n",
            "[[ 70 685]\n",
            " [  3 242]]\n",
            "\n",
            "******** For i = 0.15 ******\n",
            "(1000, 2)\n",
            "[[217 538]\n",
            " [ 13 232]]\n",
            "\n",
            "******** For i = 0.2 ******\n",
            "(1000, 2)\n",
            "[[328 427]\n",
            " [ 29 216]]\n",
            "\n",
            "******** For i = 0.25 ******\n",
            "(1000, 2)\n",
            "[[418 337]\n",
            " [ 49 196]]\n",
            "\n",
            "******** For i = 0.3 ******\n",
            "(1000, 2)\n",
            "[[502 253]\n",
            " [ 90 155]]\n",
            "\n",
            "******** For i = 0.35 ******\n",
            "(1000, 2)\n",
            "[[597 158]\n",
            " [132 113]]\n",
            "\n",
            "******** For i = 0.4 ******\n",
            "(1000, 2)\n",
            "[[660  95]\n",
            " [164  81]]\n",
            "\n",
            "******** For i = 0.45 ******\n",
            "(1000, 2)\n",
            "[[704  51]\n",
            " [187  58]]\n",
            "\n",
            "******** For i = 0.5 ******\n",
            "(1000, 2)\n",
            "[[731  24]\n",
            " [207  38]]\n",
            "\n",
            "******** For i = 0.55 ******\n",
            "(1000, 2)\n",
            "[[741  14]\n",
            " [223  22]]\n",
            "\n",
            "******** For i = 0.6 ******\n",
            "(1000, 2)\n",
            "[[750   5]\n",
            " [233  12]]\n",
            "\n",
            "******** For i = 0.65 ******\n",
            "(1000, 2)\n",
            "[[753   2]\n",
            " [240   5]]\n",
            "\n",
            "******** For i = 0.7 ******\n",
            "(1000, 2)\n",
            "[[755   0]\n",
            " [242   3]]\n",
            "\n",
            "******** For i = 0.75 ******\n",
            "(1000, 2)\n",
            "[[755   0]\n",
            " [243   2]]\n",
            "\n",
            "******** For i = 0.8 ******\n",
            "(1000, 2)\n",
            "[[755   0]\n",
            " [244   1]]\n",
            "\n",
            "******** For i = 0.85 ******\n",
            "(1000, 2)\n",
            "[[755   0]\n",
            " [244   1]]\n",
            "\n",
            "******** For i = 0.9 ******\n",
            "(1000, 2)\n",
            "[[755   0]\n",
            " [245   0]]\n",
            "\n",
            "******** For i = 0.95 ******\n",
            "(1000, 2)\n",
            "[[755   0]\n",
            " [245   0]]\n",
            "\n",
            "******** For i = 0.99 ******\n",
            "(1000, 2)\n",
            "[[755   0]\n",
            " [245   0]]\n"
          ],
          "name": "stdout"
        }
      ]
    },
    {
      "cell_type": "code",
      "metadata": {
        "id": "XbKAGFQCO4L3",
        "colab_type": "code",
        "outputId": "df3b03c6-531e-44b3-8628-fcac6e84d1ef",
        "colab": {
          "base_uri": "https://localhost:8080/",
          "height": 34
        }
      },
      "source": [
        "from sklearn.metrics import accuracy_score\n",
        "accuracy_score(y_test,y_pred)"
      ],
      "execution_count": 44,
      "outputs": [
        {
          "output_type": "execute_result",
          "data": {
            "text/plain": [
              "0.769"
            ]
          },
          "metadata": {
            "tags": []
          },
          "execution_count": 44
        }
      ]
    },
    {
      "cell_type": "code",
      "metadata": {
        "id": "ww19Vh7eO4MD",
        "colab_type": "code",
        "outputId": "168f986a-cec3-47f5-849a-1dfc0792f41c",
        "colab": {
          "base_uri": "https://localhost:8080/",
          "height": 337
        }
      },
      "source": [
        "from sklearn.metrics import confusion_matrix\n",
        "cm=confusion_matrix(y_test,y_pred)\n",
        "conf_matrix=pd.DataFrame(data=cm,columns=['Predicted:0','Predicted:1'],index=['Actual:0','Actual:1'])\n",
        "plt.figure(figsize = (8,5))\n",
        "sns.heatmap(conf_matrix, annot=True,fmt='d',cmap=\"YlGnBu\")"
      ],
      "execution_count": 45,
      "outputs": [
        {
          "output_type": "execute_result",
          "data": {
            "text/plain": [
              "<matplotlib.axes._subplots.AxesSubplot at 0x7f88d8a34630>"
            ]
          },
          "metadata": {
            "tags": []
          },
          "execution_count": 45
        },
        {
          "output_type": "display_data",
          "data": {
            "image/png": "[encoded data removed]",
            "text/plain": [
              "<Figure size 576x360 with 2 Axes>"
            ]
          },
          "metadata": {
            "tags": []
          }
        }
      ]
    },
    {
      "cell_type": "code",
      "metadata": {
        "id": "p2XE5kyXO4MK",
        "colab_type": "code",
        "colab": {}
      },
      "source": [
        "TN=cm[0,0]\n",
        "TP=cm[1,1]\n",
        "FN=cm[1,0]\n",
        "FP=cm[0,1]\n",
        "sensitivity=TP/float(TP+FN)\n",
        "specificity=TN/float(TN+FP)"
      ],
      "execution_count": 0,
      "outputs": []
    },
    {
      "cell_type": "code",
      "metadata": {
        "id": "COFB2nWKO4MO",
        "colab_type": "code",
        "outputId": "547ceb09-b85a-4133-9013-ac472d370c6f",
        "colab": {
          "base_uri": "https://localhost:8080/",
          "height": 153
        }
      },
      "source": [
        "print('The acuuracy of the model = TP+TN/(TP+TN+FP+FN) = ',(TP+TN)/float(TP+TN+FP+FN),'\\n',\n",
        "\n",
        "'The Missclassification = 1-Accuracy = ',1-((TP+TN)/float(TP+TN+FP+FN)),'\\n',\n",
        "\n",
        "'Sensitivity or True Positive Rate = TP/(TP+FN) = ',TP/float(TP+FN),'\\n',\n",
        "\n",
        "'Specificity or True Negative Rate = TN/(TN+FP) = ',TN/float(TN+FP),'\\n',\n",
        "\n",
        "'Positive Predictive value = TP/(TP+FP) = ',TP/float(TP+FP),'\\n',\n",
        "\n",
        "'Negative predictive Value = TN/(TN+FN) = ',TN/float(TN+FN),'\\n',\n",
        "\n",
        "'Positive Likelihood Ratio = Sensitivity/(1-Specificity) = ',sensitivity/(1-specificity),'\\n',\n",
        "\n",
        "'Negative likelihood Ratio = (1-Sensitivity)/Specificity = ',(1-sensitivity)/specificity)"
      ],
      "execution_count": 47,
      "outputs": [
        {
          "output_type": "stream",
          "text": [
            "The acuuracy of the model = TP+TN/(TP+TN+FP+FN) =  0.769 \n",
            " The Missclassification = 1-Accuracy =  0.23099999999999998 \n",
            " Sensitivity or True Positive Rate = TP/(TP+FN) =  0.15510204081632653 \n",
            " Specificity or True Negative Rate = TN/(TN+FP) =  0.9682119205298013 \n",
            " Positive Predictive value = TP/(TP+FP) =  0.6129032258064516 \n",
            " Negative predictive Value = TN/(TN+FN) =  0.779317697228145 \n",
            " Positive Likelihood Ratio = Sensitivity/(1-Specificity) =  4.879251700680271 \n",
            " Negative likelihood Ratio = (1-Sensitivity)/Specificity =  0.8726374270638488\n"
          ],
          "name": "stdout"
        }
      ]
    },
    {
      "cell_type": "code",
      "metadata": {
        "id": "iRbGmC3cO4MQ",
        "colab_type": "code",
        "outputId": "e3650efb-4710-4c63-b1b4-80a87bfca55a",
        "colab": {
          "base_uri": "https://localhost:8080/",
          "height": 621
        }
      },
      "source": [
        "y_pred_prob=logreg.predict_proba(X_test)[:,:]\n",
        "y_pred_prob_df=pd.DataFrame(data=y_pred_prob, columns=['Prob of no Default','Prob of Default'])\n",
        "y_pred_prob_df.head()\n",
        "\n",
        "from sklearn.metrics import roc_curve, auc\n",
        "probs = y_pred_prob[:, 1]\n",
        "fpr, tpr, thresholds = roc_curve(y_test, probs)\n",
        "roc_auc = auc(fpr, tpr)\n",
        "#print(auc)\n",
        "plt.subplots(1,1,figsize=(10,10))\n",
        "plt.plot([0,1],[0,1],linestyle = '--',lw = 2,color = 'black')\n",
        "plt.xlabel('False Positive Rate')\n",
        "plt.ylabel('True Positive Rate')\n",
        "plt.title('ROC')\n",
        "plt.plot(fpr, tpr, label=\"auc score: \"+str(roc_auc), color='blue', linewidth = 4)\n",
        "plt.legend(loc = 'lower right', fontsize = 16)\n",
        "plt.text(0.32,0.7,'More accurate area',fontsize = 12)\n",
        "plt.text(0.63,0.4,'Less accurate area',fontsize = 12)\n",
        "plt.show()"
      ],
      "execution_count": 48,
      "outputs": [
        {
          "output_type": "display_data",
          "data": {
            "image/png": "[encoded data removed]",
            "text/plain": [
              "<Figure size 720x720 with 1 Axes>"
            ]
          },
          "metadata": {
            "tags": []
          }
        }
      ]
    },
    {
      "cell_type": "markdown",
      "metadata": {
        "id": "hXw_f7fCyDgw",
        "colab_type": "text"
      },
      "source": [
        ""
      ]
    },
    {
      "cell_type": "markdown",
      "metadata": {
        "id": "3KmFzhB3O4MS",
        "colab_type": "text"
      },
      "source": [
        "# Prediction"
      ]
    },
    {
      "cell_type": "code",
      "metadata": {
        "id": "sm4RHTdMO4MT",
        "colab_type": "code",
        "outputId": "844de4ee-689d-4c21-ada8-a4f67a63dbb9",
        "colab": {
          "base_uri": "https://localhost:8080/",
          "height": 235
        }
      },
      "source": [
        "X_test_data = test_df.drop('isDefault', axis=1)\n",
        "index = X_test_data.index\n",
        "X_test_data=sc.transform(X_test_data)\n",
        "Predictions =logreg.predict_proba(X_test_data)[:,:]\n",
        "Predictions_df =pd.DataFrame(data=Predictions, columns=['Prob of no Default','Prob of Default'], index=index)\n",
        "Predictions_df.head()\n"
      ],
      "execution_count": 49,
      "outputs": [
        {
          "output_type": "execute_result",
          "data": {
            "text/html": [
              "<div>\n",
              "<style scoped>\n",
              "    .dataframe tbody tr th:only-of-type {\n",
              "        vertical-align: middle;\n",
              "    }\n",
              "\n",
              "    .dataframe tbody tr th {\n",
              "        vertical-align: top;\n",
              "    }\n",
              "\n",
              "    .dataframe thead th {\n",
              "        text-align: right;\n",
              "    }\n",
              "</style>\n",
              "<table border=\"1\" class=\"dataframe\">\n",
              "  <thead>\n",
              "    <tr style=\"text-align: right;\">\n",
              "      <th></th>\n",
              "      <th>Prob of no Default</th>\n",
              "      <th>Prob of Default</th>\n",
              "    </tr>\n",
              "    <tr>\n",
              "      <th>id</th>\n",
              "      <th></th>\n",
              "      <th></th>\n",
              "    </tr>\n",
              "  </thead>\n",
              "  <tbody>\n",
              "    <tr>\n",
              "      <th>A9C3F4CA-66BF-44EE-8C38-1C50D0751CD1-500</th>\n",
              "      <td>0.623436</td>\n",
              "      <td>0.376564</td>\n",
              "    </tr>\n",
              "    <tr>\n",
              "      <th>A9C93D6B-8625-48EE-9E05-EB63256DEEA6-500</th>\n",
              "      <td>0.703763</td>\n",
              "      <td>0.296237</td>\n",
              "    </tr>\n",
              "    <tr>\n",
              "      <th>A9D12F62-35D5-44DE-8446-B8C2E4A5E938-750</th>\n",
              "      <td>0.763360</td>\n",
              "      <td>0.236640</td>\n",
              "    </tr>\n",
              "    <tr>\n",
              "      <th>A9D3EC9F-B3EB-4A56-8BC6-4614A1C42FE2-600</th>\n",
              "      <td>0.758370</td>\n",
              "      <td>0.241630</td>\n",
              "    </tr>\n",
              "    <tr>\n",
              "      <th>A9D54EF9-3CBA-4481-80B2-59FD92BB60D9-700</th>\n",
              "      <td>0.702729</td>\n",
              "      <td>0.297271</td>\n",
              "    </tr>\n",
              "  </tbody>\n",
              "</table>\n",
              "</div>"
            ],
            "text/plain": [
              "                                          Prob of no Default  Prob of Default\n",
              "id                                                                           \n",
              "A9C3F4CA-66BF-44EE-8C38-1C50D0751CD1-500            0.623436         0.376564\n",
              "A9C93D6B-8625-48EE-9E05-EB63256DEEA6-500            0.703763         0.296237\n",
              "A9D12F62-35D5-44DE-8446-B8C2E4A5E938-750            0.763360         0.236640\n",
              "A9D3EC9F-B3EB-4A56-8BC6-4614A1C42FE2-600            0.758370         0.241630\n",
              "A9D54EF9-3CBA-4481-80B2-59FD92BB60D9-700            0.702729         0.297271"
            ]
          },
          "metadata": {
            "tags": []
          },
          "execution_count": 49
        }
      ]
    },
    {
      "cell_type": "code",
      "metadata": {
        "id": "hh4yNbBnO4MX",
        "colab_type": "code",
        "outputId": "66912000-7233-4929-eae8-21adb0286380",
        "colab": {
          "base_uri": "https://localhost:8080/",
          "height": 235
        }
      },
      "source": [
        "Final_Submission = Predictions_df.drop('Prob of no Default', axis=1)\n",
        "Final_Submission_txt = Final_Submission.to_csv(outputPath, header=None)\n",
        "Final_Submission.head()"
      ],
      "execution_count": 50,
      "outputs": [
        {
          "output_type": "execute_result",
          "data": {
            "text/html": [
              "<div>\n",
              "<style scoped>\n",
              "    .dataframe tbody tr th:only-of-type {\n",
              "        vertical-align: middle;\n",
              "    }\n",
              "\n",
              "    .dataframe tbody tr th {\n",
              "        vertical-align: top;\n",
              "    }\n",
              "\n",
              "    .dataframe thead th {\n",
              "        text-align: right;\n",
              "    }\n",
              "</style>\n",
              "<table border=\"1\" class=\"dataframe\">\n",
              "  <thead>\n",
              "    <tr style=\"text-align: right;\">\n",
              "      <th></th>\n",
              "      <th>Prob of Default</th>\n",
              "    </tr>\n",
              "    <tr>\n",
              "      <th>id</th>\n",
              "      <th></th>\n",
              "    </tr>\n",
              "  </thead>\n",
              "  <tbody>\n",
              "    <tr>\n",
              "      <th>A9C3F4CA-66BF-44EE-8C38-1C50D0751CD1-500</th>\n",
              "      <td>0.376564</td>\n",
              "    </tr>\n",
              "    <tr>\n",
              "      <th>A9C93D6B-8625-48EE-9E05-EB63256DEEA6-500</th>\n",
              "      <td>0.296237</td>\n",
              "    </tr>\n",
              "    <tr>\n",
              "      <th>A9D12F62-35D5-44DE-8446-B8C2E4A5E938-750</th>\n",
              "      <td>0.236640</td>\n",
              "    </tr>\n",
              "    <tr>\n",
              "      <th>A9D3EC9F-B3EB-4A56-8BC6-4614A1C42FE2-600</th>\n",
              "      <td>0.241630</td>\n",
              "    </tr>\n",
              "    <tr>\n",
              "      <th>A9D54EF9-3CBA-4481-80B2-59FD92BB60D9-700</th>\n",
              "      <td>0.297271</td>\n",
              "    </tr>\n",
              "  </tbody>\n",
              "</table>\n",
              "</div>"
            ],
            "text/plain": [
              "                                          Prob of Default\n",
              "id                                                       \n",
              "A9C3F4CA-66BF-44EE-8C38-1C50D0751CD1-500         0.376564\n",
              "A9C93D6B-8625-48EE-9E05-EB63256DEEA6-500         0.296237\n",
              "A9D12F62-35D5-44DE-8446-B8C2E4A5E938-750         0.236640\n",
              "A9D3EC9F-B3EB-4A56-8BC6-4614A1C42FE2-600         0.241630\n",
              "A9D54EF9-3CBA-4481-80B2-59FD92BB60D9-700         0.297271"
            ]
          },
          "metadata": {
            "tags": []
          },
          "execution_count": 50
        }
      ]
    }
  ]
}